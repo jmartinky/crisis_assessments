{
 "cells": [
  {
   "cell_type": "code",
   "execution_count": 4,
   "id": "6e9a58a5-5c51-4eca-a46a-23e622ace261",
   "metadata": {},
   "outputs": [
    {
     "name": "stdout",
     "output_type": "stream",
     "text": [
      "Multipage TIFF split successfully!\n"
     ]
    }
   ],
   "source": [
    "\"\"\"\n",
    "This is not my code, but I cannot find the original programmer for attribution.\n",
    "\"\"\"\n",
    "\n",
    "import os\n",
    "from PIL import Image\n",
    "\n",
    "def split_tiff(input_tiff_path, output_dir):\n",
    "    if not os.path.exists(output_dir):\n",
    "        os.makedirs(output_dir)\n",
    "\n",
    "    multipage_tiff = Image.open(input_tiff_path)\n",
    "\n",
    "    for i in range(multipage_tiff.n_frames):\n",
    "        multipage_tiff.seek(i)\n",
    "        output_filename = os.path.join(output_dir, f\"page_{i+1}.tif\")\n",
    "        multipage_tiff.save(output_filename)\n",
    "\n",
    "    print(\"Multipage TIFF split successfully!\")\n",
    "\n",
    "input_tiff_path = \"E:/DOC030824-03082024144117.tif\"  # Path to multipage TIFF file\n",
    "output_directory = \"D:/encounters/2020_04/4\"     # Directory where separate TIFF files will be saved\n",
    "split_tiff(input_tiff_path, output_directory)"
   ]
  },
  {
   "cell_type": "code",
   "execution_count": null,
   "id": "2b57133e-63b2-4832-b652-d02ee9bc500c",
   "metadata": {},
   "outputs": [],
   "source": []
  }
 ],
 "metadata": {
  "kernelspec": {
   "display_name": "Python 3 (ipykernel)",
   "language": "python",
   "name": "python3"
  },
  "language_info": {
   "codemirror_mode": {
    "name": "ipython",
    "version": 3
   },
   "file_extension": ".py",
   "mimetype": "text/x-python",
   "name": "python",
   "nbconvert_exporter": "python",
   "pygments_lexer": "ipython3",
   "version": "3.12.2"
  }
 },
 "nbformat": 4,
 "nbformat_minor": 5
}
