{
 "cells": [
  {
   "cell_type": "code",
   "execution_count": null,
   "id": "ee279029-2871-481d-afb4-a53d482f7e3b",
   "metadata": {},
   "outputs": [],
   "source": [
    "## SUPER MEGA HAPPY WITH THIS ONE\n",
    "\n",
    "import pandas as pd\n",
    "import pytesseract\n",
    "from PIL import Image\n",
    "import os\n",
    "import re\n",
    "import csv\n",
    "pytesseract.pytesseract.tesseract_cmd = r'C:\\Program Files\\Tesseract-OCR\\tesseract'\n",
    "import glob\n",
    "import stat\n",
    "\n",
    "images = glob.glob(\"D:/encounters/2020_04/*.tif\")\n",
    "count = len(images)\n",
    "iter_obj = iter(images)\n",
    "output_directory = \"D:/data/2020_04/\"\n",
    "\n",
    "if not os.path.exists(output_directory):\n",
    "        os.makedirs(output_directory)\n",
    "for i in range(count):\n",
    "    output_filename = os.path.join(output_directory, f\"Abbey_{i+1}.txt\")\n",
    "    if not os.path.exists(output_filename):\n",
    "        open(output_filename, 'w')    \n",
    "file_list = glob.glob(\"D:/data/2020_04/*.txt\")\n",
    "iter_file = iter(file_list)\n",
    "\n",
    "\n",
    "def abbey():\n",
    "    while True:\n",
    "        try:\n",
    "            encounter = next(iter_obj)\n",
    "            with open(encounter, 'rb') as image:\n",
    "                img = Image.open(image)\n",
    "                output = pytesseract.image_to_string(img)\n",
    "                def write_output():\n",
    "                    next_file = next(iter_file)\n",
    "                    with open(next_file, 'a+') as file:\n",
    "                        file.write(f'File: {encounter}\\n\\n{output}')\n",
    "                write_output()\n",
    "        except StopIteration:\n",
    "            break\n",
    "abbey()\n",
    "## SUPER MEGA HAPPY WITH THIS ONE"
   ]
  }
 ],
 "metadata": {
  "kernelspec": {
   "display_name": "Python 3 (ipykernel)",
   "language": "python",
   "name": "python3"
  },
  "language_info": {
   "codemirror_mode": {
    "name": "ipython",
    "version": 3
   },
   "file_extension": ".py",
   "mimetype": "text/x-python",
   "name": "python",
   "nbconvert_exporter": "python",
   "pygments_lexer": "ipython3",
   "version": "3.12.2"
  }
 },
 "nbformat": 4,
 "nbformat_minor": 5
}
